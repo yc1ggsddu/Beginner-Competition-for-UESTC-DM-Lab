{
 "cells": [
  {
   "cell_type": "code",
   "execution_count": 1,
   "metadata": {},
   "outputs": [],
   "source": [
    "# 导入必要的库\n",
    "import numpy as np\n",
    "import pandas as pd\n",
    "import torch\n",
    "import torch.nn as nn\n",
    "import torch.nn.functional as F\n",
    "import torch.optim as optim\n",
    "from torch.optim.lr_scheduler import CosineAnnealingLR\n",
    "from torch.utils.data import DataLoader, Dataset, TensorDataset\n",
    "# import Ranger\n",
    "from tqdm import tqdm # 进度条的库\n",
    "import matplotlib.pyplot as plt\n",
    "# import seaborn as sns\n",
    "# import sklearn\n",
    "# from sklearn.svm import SVC\n",
    "from sklearn.model_selection import train_test_split\n",
    "from sklearn.preprocessing import LabelEncoder\n",
    "from sklearn.preprocessing import LabelBinarizer\n",
    "# from sklearn.metrics import accuracy_score"
   ]
  },
  {
   "attachments": {},
   "cell_type": "markdown",
   "metadata": {},
   "source": [
    "# 读取数据"
   ]
  },
  {
   "cell_type": "code",
   "execution_count": 2,
   "metadata": {},
   "outputs": [],
   "source": [
    "def unique_value(df: pd.DataFrame) -> np.array:\n",
    "    df_specific = df.drop(list(df.columns[:2]), axis=1, inplace=False)\n",
    "    temp = df_specific.to_numpy()\n",
    "    return np.unique(temp)"
   ]
  },
  {
   "cell_type": "code",
   "execution_count": 3,
   "metadata": {},
   "outputs": [],
   "source": [
    "train_df = pd.read_csv(\"../dataset/recipes_train.csv\")\n",
    "test_df = pd.read_csv(\"../dataset/recipes_test.csv\")"
   ]
  },
  {
   "cell_type": "code",
   "execution_count": 4,
   "metadata": {},
   "outputs": [
    {
     "data": {
      "text/plain": [
       "((1469, 385), (979, 384))"
      ]
     },
     "execution_count": 4,
     "metadata": {},
     "output_type": "execute_result"
    }
   ],
   "source": [
    "train_df.shape, test_df.shape"
   ]
  },
  {
   "cell_type": "code",
   "execution_count": 5,
   "metadata": {},
   "outputs": [
    {
     "data": {
      "text/html": [
       "<div>\n",
       "<style scoped>\n",
       "    .dataframe tbody tr th:only-of-type {\n",
       "        vertical-align: middle;\n",
       "    }\n",
       "\n",
       "    .dataframe tbody tr th {\n",
       "        vertical-align: top;\n",
       "    }\n",
       "\n",
       "    .dataframe thead th {\n",
       "        text-align: right;\n",
       "    }\n",
       "</style>\n",
       "<table border=\"1\" class=\"dataframe\">\n",
       "  <thead>\n",
       "    <tr style=\"text-align: right;\">\n",
       "      <th></th>\n",
       "      <th>id</th>\n",
       "      <th>cuisine</th>\n",
       "      <th>almond</th>\n",
       "      <th>angelica</th>\n",
       "      <th>anise</th>\n",
       "      <th>anise_seed</th>\n",
       "      <th>apple</th>\n",
       "      <th>apple_brandy</th>\n",
       "      <th>apricot</th>\n",
       "      <th>armagnac</th>\n",
       "      <th>...</th>\n",
       "      <th>whiskey</th>\n",
       "      <th>white_bread</th>\n",
       "      <th>white_wine</th>\n",
       "      <th>whole_grain_wheat_flour</th>\n",
       "      <th>wine</th>\n",
       "      <th>wood</th>\n",
       "      <th>yam</th>\n",
       "      <th>yeast</th>\n",
       "      <th>yogurt</th>\n",
       "      <th>zucchini</th>\n",
       "    </tr>\n",
       "  </thead>\n",
       "  <tbody>\n",
       "    <tr>\n",
       "      <th>0</th>\n",
       "      <td>1</td>\n",
       "      <td>indian</td>\n",
       "      <td>0</td>\n",
       "      <td>0</td>\n",
       "      <td>0</td>\n",
       "      <td>0</td>\n",
       "      <td>0</td>\n",
       "      <td>0</td>\n",
       "      <td>0</td>\n",
       "      <td>0</td>\n",
       "      <td>...</td>\n",
       "      <td>0</td>\n",
       "      <td>0</td>\n",
       "      <td>0</td>\n",
       "      <td>0</td>\n",
       "      <td>0</td>\n",
       "      <td>0</td>\n",
       "      <td>0</td>\n",
       "      <td>0</td>\n",
       "      <td>0</td>\n",
       "      <td>0</td>\n",
       "    </tr>\n",
       "    <tr>\n",
       "      <th>1</th>\n",
       "      <td>2</td>\n",
       "      <td>chinese</td>\n",
       "      <td>0</td>\n",
       "      <td>0</td>\n",
       "      <td>0</td>\n",
       "      <td>0</td>\n",
       "      <td>0</td>\n",
       "      <td>0</td>\n",
       "      <td>0</td>\n",
       "      <td>0</td>\n",
       "      <td>...</td>\n",
       "      <td>0</td>\n",
       "      <td>0</td>\n",
       "      <td>0</td>\n",
       "      <td>0</td>\n",
       "      <td>0</td>\n",
       "      <td>0</td>\n",
       "      <td>0</td>\n",
       "      <td>0</td>\n",
       "      <td>0</td>\n",
       "      <td>0</td>\n",
       "    </tr>\n",
       "    <tr>\n",
       "      <th>2</th>\n",
       "      <td>3</td>\n",
       "      <td>chinese</td>\n",
       "      <td>0</td>\n",
       "      <td>0</td>\n",
       "      <td>0</td>\n",
       "      <td>0</td>\n",
       "      <td>0</td>\n",
       "      <td>0</td>\n",
       "      <td>0</td>\n",
       "      <td>0</td>\n",
       "      <td>...</td>\n",
       "      <td>0</td>\n",
       "      <td>0</td>\n",
       "      <td>0</td>\n",
       "      <td>0</td>\n",
       "      <td>0</td>\n",
       "      <td>0</td>\n",
       "      <td>0</td>\n",
       "      <td>0</td>\n",
       "      <td>0</td>\n",
       "      <td>0</td>\n",
       "    </tr>\n",
       "    <tr>\n",
       "      <th>3</th>\n",
       "      <td>4</td>\n",
       "      <td>korean</td>\n",
       "      <td>0</td>\n",
       "      <td>0</td>\n",
       "      <td>0</td>\n",
       "      <td>0</td>\n",
       "      <td>0</td>\n",
       "      <td>0</td>\n",
       "      <td>0</td>\n",
       "      <td>0</td>\n",
       "      <td>...</td>\n",
       "      <td>0</td>\n",
       "      <td>0</td>\n",
       "      <td>0</td>\n",
       "      <td>0</td>\n",
       "      <td>0</td>\n",
       "      <td>0</td>\n",
       "      <td>0</td>\n",
       "      <td>0</td>\n",
       "      <td>0</td>\n",
       "      <td>0</td>\n",
       "    </tr>\n",
       "    <tr>\n",
       "      <th>4</th>\n",
       "      <td>5</td>\n",
       "      <td>thai</td>\n",
       "      <td>0</td>\n",
       "      <td>0</td>\n",
       "      <td>0</td>\n",
       "      <td>0</td>\n",
       "      <td>0</td>\n",
       "      <td>0</td>\n",
       "      <td>0</td>\n",
       "      <td>0</td>\n",
       "      <td>...</td>\n",
       "      <td>0</td>\n",
       "      <td>0</td>\n",
       "      <td>0</td>\n",
       "      <td>0</td>\n",
       "      <td>0</td>\n",
       "      <td>0</td>\n",
       "      <td>0</td>\n",
       "      <td>0</td>\n",
       "      <td>0</td>\n",
       "      <td>0</td>\n",
       "    </tr>\n",
       "  </tbody>\n",
       "</table>\n",
       "<p>5 rows × 385 columns</p>\n",
       "</div>"
      ],
      "text/plain": [
       "   id  cuisine  almond  angelica  anise  anise_seed  apple  apple_brandy  \\\n",
       "0   1   indian       0         0      0           0      0             0   \n",
       "1   2  chinese       0         0      0           0      0             0   \n",
       "2   3  chinese       0         0      0           0      0             0   \n",
       "3   4   korean       0         0      0           0      0             0   \n",
       "4   5     thai       0         0      0           0      0             0   \n",
       "\n",
       "   apricot  armagnac  ...  whiskey  white_bread  white_wine  \\\n",
       "0        0         0  ...        0            0           0   \n",
       "1        0         0  ...        0            0           0   \n",
       "2        0         0  ...        0            0           0   \n",
       "3        0         0  ...        0            0           0   \n",
       "4        0         0  ...        0            0           0   \n",
       "\n",
       "   whole_grain_wheat_flour  wine  wood  yam  yeast  yogurt  zucchini  \n",
       "0                        0     0     0    0      0       0         0  \n",
       "1                        0     0     0    0      0       0         0  \n",
       "2                        0     0     0    0      0       0         0  \n",
       "3                        0     0     0    0      0       0         0  \n",
       "4                        0     0     0    0      0       0         0  \n",
       "\n",
       "[5 rows x 385 columns]"
      ]
     },
     "execution_count": 5,
     "metadata": {},
     "output_type": "execute_result"
    }
   ],
   "source": [
    "train_df.head()"
   ]
  },
  {
   "cell_type": "code",
   "execution_count": 6,
   "metadata": {},
   "outputs": [
    {
     "data": {
      "text/html": [
       "<div>\n",
       "<style scoped>\n",
       "    .dataframe tbody tr th:only-of-type {\n",
       "        vertical-align: middle;\n",
       "    }\n",
       "\n",
       "    .dataframe tbody tr th {\n",
       "        vertical-align: top;\n",
       "    }\n",
       "\n",
       "    .dataframe thead th {\n",
       "        text-align: right;\n",
       "    }\n",
       "</style>\n",
       "<table border=\"1\" class=\"dataframe\">\n",
       "  <thead>\n",
       "    <tr style=\"text-align: right;\">\n",
       "      <th></th>\n",
       "      <th>id</th>\n",
       "      <th>almond</th>\n",
       "      <th>angelica</th>\n",
       "      <th>anise</th>\n",
       "      <th>anise_seed</th>\n",
       "      <th>apple</th>\n",
       "      <th>apple_brandy</th>\n",
       "      <th>apricot</th>\n",
       "      <th>armagnac</th>\n",
       "      <th>artemisia</th>\n",
       "      <th>...</th>\n",
       "      <th>whiskey</th>\n",
       "      <th>white_bread</th>\n",
       "      <th>white_wine</th>\n",
       "      <th>whole_grain_wheat_flour</th>\n",
       "      <th>wine</th>\n",
       "      <th>wood</th>\n",
       "      <th>yam</th>\n",
       "      <th>yeast</th>\n",
       "      <th>yogurt</th>\n",
       "      <th>zucchini</th>\n",
       "    </tr>\n",
       "  </thead>\n",
       "  <tbody>\n",
       "    <tr>\n",
       "      <th>0</th>\n",
       "      <td>1</td>\n",
       "      <td>0</td>\n",
       "      <td>0</td>\n",
       "      <td>0</td>\n",
       "      <td>0</td>\n",
       "      <td>0</td>\n",
       "      <td>0</td>\n",
       "      <td>0</td>\n",
       "      <td>0</td>\n",
       "      <td>0</td>\n",
       "      <td>...</td>\n",
       "      <td>0</td>\n",
       "      <td>0</td>\n",
       "      <td>0</td>\n",
       "      <td>0</td>\n",
       "      <td>0</td>\n",
       "      <td>0</td>\n",
       "      <td>0</td>\n",
       "      <td>0</td>\n",
       "      <td>0</td>\n",
       "      <td>0</td>\n",
       "    </tr>\n",
       "    <tr>\n",
       "      <th>1</th>\n",
       "      <td>2</td>\n",
       "      <td>0</td>\n",
       "      <td>0</td>\n",
       "      <td>0</td>\n",
       "      <td>0</td>\n",
       "      <td>0</td>\n",
       "      <td>0</td>\n",
       "      <td>0</td>\n",
       "      <td>0</td>\n",
       "      <td>0</td>\n",
       "      <td>...</td>\n",
       "      <td>0</td>\n",
       "      <td>0</td>\n",
       "      <td>0</td>\n",
       "      <td>0</td>\n",
       "      <td>0</td>\n",
       "      <td>0</td>\n",
       "      <td>0</td>\n",
       "      <td>0</td>\n",
       "      <td>0</td>\n",
       "      <td>0</td>\n",
       "    </tr>\n",
       "    <tr>\n",
       "      <th>2</th>\n",
       "      <td>3</td>\n",
       "      <td>0</td>\n",
       "      <td>0</td>\n",
       "      <td>0</td>\n",
       "      <td>0</td>\n",
       "      <td>0</td>\n",
       "      <td>0</td>\n",
       "      <td>0</td>\n",
       "      <td>0</td>\n",
       "      <td>0</td>\n",
       "      <td>...</td>\n",
       "      <td>0</td>\n",
       "      <td>0</td>\n",
       "      <td>0</td>\n",
       "      <td>0</td>\n",
       "      <td>0</td>\n",
       "      <td>0</td>\n",
       "      <td>0</td>\n",
       "      <td>0</td>\n",
       "      <td>0</td>\n",
       "      <td>0</td>\n",
       "    </tr>\n",
       "    <tr>\n",
       "      <th>3</th>\n",
       "      <td>4</td>\n",
       "      <td>0</td>\n",
       "      <td>0</td>\n",
       "      <td>0</td>\n",
       "      <td>0</td>\n",
       "      <td>0</td>\n",
       "      <td>0</td>\n",
       "      <td>0</td>\n",
       "      <td>0</td>\n",
       "      <td>0</td>\n",
       "      <td>...</td>\n",
       "      <td>0</td>\n",
       "      <td>0</td>\n",
       "      <td>0</td>\n",
       "      <td>0</td>\n",
       "      <td>0</td>\n",
       "      <td>0</td>\n",
       "      <td>0</td>\n",
       "      <td>0</td>\n",
       "      <td>0</td>\n",
       "      <td>0</td>\n",
       "    </tr>\n",
       "    <tr>\n",
       "      <th>4</th>\n",
       "      <td>5</td>\n",
       "      <td>0</td>\n",
       "      <td>0</td>\n",
       "      <td>0</td>\n",
       "      <td>0</td>\n",
       "      <td>0</td>\n",
       "      <td>0</td>\n",
       "      <td>0</td>\n",
       "      <td>0</td>\n",
       "      <td>0</td>\n",
       "      <td>...</td>\n",
       "      <td>0</td>\n",
       "      <td>0</td>\n",
       "      <td>0</td>\n",
       "      <td>0</td>\n",
       "      <td>0</td>\n",
       "      <td>0</td>\n",
       "      <td>0</td>\n",
       "      <td>0</td>\n",
       "      <td>0</td>\n",
       "      <td>0</td>\n",
       "    </tr>\n",
       "  </tbody>\n",
       "</table>\n",
       "<p>5 rows × 384 columns</p>\n",
       "</div>"
      ],
      "text/plain": [
       "   id  almond  angelica  anise  anise_seed  apple  apple_brandy  apricot  \\\n",
       "0   1       0         0      0           0      0             0        0   \n",
       "1   2       0         0      0           0      0             0        0   \n",
       "2   3       0         0      0           0      0             0        0   \n",
       "3   4       0         0      0           0      0             0        0   \n",
       "4   5       0         0      0           0      0             0        0   \n",
       "\n",
       "   armagnac  artemisia  ...  whiskey  white_bread  white_wine  \\\n",
       "0         0          0  ...        0            0           0   \n",
       "1         0          0  ...        0            0           0   \n",
       "2         0          0  ...        0            0           0   \n",
       "3         0          0  ...        0            0           0   \n",
       "4         0          0  ...        0            0           0   \n",
       "\n",
       "   whole_grain_wheat_flour  wine  wood  yam  yeast  yogurt  zucchini  \n",
       "0                        0     0     0    0      0       0         0  \n",
       "1                        0     0     0    0      0       0         0  \n",
       "2                        0     0     0    0      0       0         0  \n",
       "3                        0     0     0    0      0       0         0  \n",
       "4                        0     0     0    0      0       0         0  \n",
       "\n",
       "[5 rows x 384 columns]"
      ]
     },
     "execution_count": 6,
     "metadata": {},
     "output_type": "execute_result"
    }
   ],
   "source": [
    "test_df.head()"
   ]
  },
  {
   "attachments": {},
   "cell_type": "markdown",
   "metadata": {},
   "source": [
    "# torch train"
   ]
  },
  {
   "cell_type": "code",
   "execution_count": 13,
   "metadata": {},
   "outputs": [
    {
     "data": {
      "text/plain": [
       "dict_keys(['chinese', 'indian', 'japanese', 'korean', 'thai'])"
      ]
     },
     "execution_count": 13,
     "metadata": {},
     "output_type": "execute_result"
    }
   ],
   "source": [
    "food_index = {}\n",
    "food_count = {} # key为类, value为对应类的出现次数\n",
    "loc_index = {} # key为类, value为其所有数据的索引\n",
    "for _, group in train_df.groupby(by='cuisine'):\n",
    "    # name, group = specific data -> DataFrame\n",
    "    name = group['cuisine'].head(1).item()\n",
    "    group.drop([\"id\", 'cuisine'], axis=1, inplace=True)\n",
    "    loc_index[name] = group.index\n",
    "    food_index[name] = group.sum().to_dict()\n",
    "    food_count[name] = len(group)\n",
    "food_index.keys() # key为类, value为类中各元素总和 dict: (column:sum_value)"
   ]
  },
  {
   "cell_type": "code",
   "execution_count": 14,
   "metadata": {},
   "outputs": [],
   "source": [
    "def train(net, loss, train_dataset, valid_dataset, device, batch_size, shuffle, num_epoch, lr\n",
    "          , lr_min, optim='sgd', init=True, scheduler_type='Cosine'):\n",
    "    def init_xavier(m): # 参数初始化\n",
    "        #if type(m) == nn.Linear or type(m) == nn.Conv2d:\n",
    "        if type(m) == nn.Linear:\n",
    "            nn.init.xavier_normal_(m.weight)\n",
    "\n",
    "    if init:\n",
    "        net.apply(init_xavier)\n",
    "\n",
    "    print('training on:', device)\n",
    "    net.to(device)\n",
    "    \n",
    "    # 构建dataloader\n",
    "    train_dataloader = DataLoader(train_dataset, batch_size=batch_size, shuffle=shuffle)\n",
    "    valid_dataloader = DataLoader(valid_dataset, batch_size=batch_size, shuffle=shuffle)\n",
    "    \n",
    "    # 优化器选择\n",
    "    if optim == 'sgd': \n",
    "        optimizer = torch.optim.SGD((param for param in net.parameters() if param.requires_grad), lr=lr,\n",
    "                                    weight_decay=0)\n",
    "    elif optim == 'adam':\n",
    "        optimizer = torch.optim.Adam((param for param in net.parameters() if param.requires_grad), lr=lr,\n",
    "                                     weight_decay=0)\n",
    "    elif optim == 'adamW':\n",
    "        optimizer = torch.optim.AdamW((param for param in net.parameters() if param.requires_grad), lr=lr,\n",
    "                                      weight_decay=0)\n",
    "    # elif optim == 'ranger':\n",
    "    #     optimizer = Ranger((param for param in net.parameters() if param.requires_grad), lr=lr,\n",
    "    #                        weight_decay=0)\n",
    "    \n",
    "    # scheduler\n",
    "    if scheduler_type == 'Cosine':\n",
    "        scheduler = CosineAnnealingLR(optimizer, T_max=num_epoch, eta_min=lr_min)\n",
    "    \n",
    "    # 用来保存每个epoch的Loss和acc以便最后画图\n",
    "    train_losses = []\n",
    "    train_acces = []\n",
    "    eval_acces = []\n",
    "    best_acc = 0.0\n",
    "    \n",
    "    # 训练\n",
    "    for epoch in range(num_epoch):\n",
    "\n",
    "        print(\"——————第 {} 轮训练开始——————\".format(epoch + 1))\n",
    "\n",
    "        # 训练开始\n",
    "        net.train()\n",
    "        train_acc = 0\n",
    "        for batch in tqdm(train_dataloader, desc='训练'):\n",
    "            # 放到对应device上\n",
    "            sample, targets = batch\n",
    "            sample = sample.to(device)\n",
    "            targets = targets.to(device)\n",
    "            output = net(sample)\n",
    "\n",
    "            Loss = loss(output, targets)\n",
    "          \n",
    "            optimizer.zero_grad()\n",
    "            Loss.backward()\n",
    "            optimizer.step()\n",
    "\n",
    "            _, pred = output.max(1)\n",
    "            num_correct = (pred == targets).sum().item()\n",
    "            acc = num_correct / (batch_size)\n",
    "            train_acc += acc\n",
    "        scheduler.step()\n",
    "        print(\"epoch: {}, Loss: {}, Acc: {}\".format(epoch, Loss.item(), train_acc / len(train_dataloader)))\n",
    "        train_acces.append(train_acc / len(train_dataloader))\n",
    "        train_losses.append(Loss.item())\n",
    "\n",
    "        # 测试步骤开始\n",
    "        net.eval()\n",
    "        eval_loss = 0\n",
    "        eval_acc = 0\n",
    "        with torch.no_grad():\n",
    "            for sample, targets in valid_dataloader:\n",
    "                # 放到对应device上\n",
    "                sample = sample.to(device)\n",
    "                targets = targets.to(device)\n",
    "\n",
    "                # 得到输出\n",
    "                output = net(sample)\n",
    "                Loss = loss(output, targets)\n",
    "                _, pred = output.max(1)\n",
    "                num_correct = (pred == targets).sum().item()\n",
    "                eval_loss += Loss\n",
    "                acc = num_correct / sample.shape[0]\n",
    "                eval_acc += acc\n",
    "\n",
    "            eval_losses = eval_loss / (len(valid_dataloader))\n",
    "            eval_acc = eval_acc / (len(valid_dataloader))\n",
    "            if eval_acc > best_acc:\n",
    "                best_acc = eval_acc\n",
    "                torch.save(net.state_dict(),'best_acc.pth')\n",
    "            eval_acces.append(eval_acc)\n",
    "            print(\"整体验证集上的Loss: {}\".format(eval_losses))\n",
    "            print(\"整体验证集上的正确率: {}\".format(eval_acc))\n",
    "    return train_losses, train_acces, eval_acces"
   ]
  },
  {
   "cell_type": "code",
   "execution_count": 15,
   "metadata": {},
   "outputs": [],
   "source": [
    "# class MyDataSet(Dataset):\n",
    "#     def __init__(self, loaded_data):\n",
    "#         self.data = loaded_data\n",
    "    \n",
    "#     def __len__(self):\n",
    "#         return len(self.data)\n",
    "    \n",
    "#     def __getitem__(self, idx):\n",
    "#         data = self.data.drop(['cuisine'], axis=1).values\n",
    "#         label = self.data.loc[:, 'cuisine'].values\n",
    "#         return data, label"
   ]
  },
  {
   "cell_type": "code",
   "execution_count": 16,
   "metadata": {},
   "outputs": [],
   "source": [
    "cuisine_count = list(food_index.keys())\n",
    "result_indices = np.array([])\n",
    "for cuisine in cuisine_count:\n",
    "    cur_features_names = [item[0] for item in food_index[cuisine].items() if item[1]!=0]\n",
    "    cuisine_features = train_df.loc[loc_index[cuisine], cur_features_names]\n",
    "    corr_matrix = cuisine_features.corr()\n",
    "    # 只取相关度 > 0.7的特征\n",
    "    high_corr_pairs = np.where(np.abs(corr_matrix) > 0.8)\n",
    "    selected_feature_indices = np.unique(np.concatenate(high_corr_pairs))\n",
    "    # 每次将不同cuisine获得的有意义的特征名称合并\n",
    "    result_indices = np.union1d(result_indices, np.array(cur_features_names)[selected_feature_indices])"
   ]
  },
  {
   "cell_type": "code",
   "execution_count": 18,
   "metadata": {},
   "outputs": [],
   "source": [
    "train_x = train_df[result_indices].values # 不要id\n",
    "train_y = train_df[\"cuisine\"].values\n",
    "X_train, X_valid, y_train, y_valid = train_test_split(train_x, train_y, test_size=0.2, random_state=666)\n",
    "\n",
    "# 字符串标签 -> int32\n",
    "label_encoder = LabelEncoder()\n",
    "label_encoder.fit(y_train)\n",
    "y_train_int = label_encoder.transform(y_train)\n",
    "y_valid_int = label_encoder.transform(y_valid)\n",
    "\n",
    "# int -> one-hot\n",
    "# one_hot_encoder = LabelBinarizer()\n",
    "# y_train_oh = one_hot_encoder.fit_transform(y_train_int)\n",
    "# y_valid_oh = one_hot_encoder.fit_transform(y_valid_int)"
   ]
  },
  {
   "cell_type": "code",
   "execution_count": 30,
   "metadata": {},
   "outputs": [],
   "source": [
    "# 获得可以使用于DataLoader的DataSet 也可以自己编写\n",
    "train_dataset = TensorDataset(torch.from_numpy(X_train).to(torch.float32), \\\n",
    "                              torch.from_numpy(y_train_int).to(torch.int64))\n",
    "valid_dataset = TensorDataset(torch.from_numpy(X_valid).to(torch.float32), \\\n",
    "                             torch.from_numpy(y_valid_int).to(torch.int64))"
   ]
  },
  {
   "cell_type": "code",
   "execution_count": 9,
   "metadata": {},
   "outputs": [],
   "source": [
    "class MLP(nn.Module):\n",
    "    def __init__(self, in_features, hidden_features: list,  out_features):\n",
    "        \"\"\"\n",
    "        :params in_features: 输入特征维度\n",
    "        :params hidden_features: 隐藏层维度(由浅到深)\n",
    "        :params out_features: 输出维度 \n",
    "        \"\"\"\n",
    "        super().__init__()\n",
    "        self.linear1 = nn.Linear(in_features, hidden_features[0])\n",
    "        self.relu1 = nn.ReLU()\n",
    "        self.hidden_linears = []\n",
    "        for i in range(1, len(hidden_features)):\n",
    "            self.hidden_linears.append(nn.Linear(hidden_features[i-1], hidden_features[i]))\n",
    "            self.hidden_linears.append(nn.ReLU())\n",
    "        # 一定需要这一步变成ModuleList类型的, 不然会报错\n",
    "        self.hidden_linears = torch.nn.ModuleList(self.hidden_linears) \n",
    "        self.last_linear = nn.Linear(hidden_features[-1], out_features)\n",
    "        self.softmax = nn.Softmax(dim=0)\n",
    "    \n",
    "    def forward(self, X):\n",
    "        X = self.linear1(X)\n",
    "        X = self.relu1(X)\n",
    "        for hidden_linear in self.hidden_linears:\n",
    "            X = hidden_linear(X)\n",
    "        X = self.last_linear(X)\n",
    "        X = self.softmax(X)\n",
    "        return X"
   ]
  },
  {
   "cell_type": "code",
   "execution_count": 51,
   "metadata": {},
   "outputs": [
    {
     "name": "stdout",
     "output_type": "stream",
     "text": [
      "training on: cuda\n",
      "——————第 1 轮训练开始——————\n"
     ]
    },
    {
     "name": "stderr",
     "output_type": "stream",
     "text": [
      "训练: 100%|██████████| 19/19 [00:00<00:00, 138.05it/s]\n"
     ]
    },
    {
     "name": "stdout",
     "output_type": "stream",
     "text": [
      "epoch: 0, Loss: 1.570589303970337, Acc: 0.47286184210526316\n",
      "整体验证集上的Loss: 1.5928828716278076\n",
      "整体验证集上的正确率: 0.5889802631578946\n",
      "——————第 2 轮训练开始——————\n"
     ]
    },
    {
     "name": "stderr",
     "output_type": "stream",
     "text": [
      "训练: 100%|██████████| 19/19 [00:00<00:00, 134.71it/s]\n"
     ]
    },
    {
     "name": "stdout",
     "output_type": "stream",
     "text": [
      "epoch: 1, Loss: 1.5345383882522583, Acc: 0.5789473684210527\n",
      "整体验证集上的Loss: 1.5752111673355103\n",
      "整体验证集上的正确率: 0.5638157894736843\n",
      "——————第 3 轮训练开始——————\n"
     ]
    },
    {
     "name": "stderr",
     "output_type": "stream",
     "text": [
      "训练: 100%|██████████| 19/19 [00:00<00:00, 127.86it/s]\n"
     ]
    },
    {
     "name": "stdout",
     "output_type": "stream",
     "text": [
      "epoch: 2, Loss: 1.4725587368011475, Acc: 0.5526315789473685\n",
      "整体验证集上的Loss: 1.558209776878357\n",
      "整体验证集上的正确率: 0.5572368421052631\n",
      "——————第 4 轮训练开始——————\n"
     ]
    },
    {
     "name": "stderr",
     "output_type": "stream",
     "text": [
      "训练: 100%|██████████| 19/19 [00:00<00:00, 85.67it/s] \n"
     ]
    },
    {
     "name": "stdout",
     "output_type": "stream",
     "text": [
      "epoch: 3, Loss: 1.4502766132354736, Acc: 0.6167763157894737\n",
      "整体验证集上的Loss: 1.5504003763198853\n",
      "整体验证集上的正确率: 0.647203947368421\n",
      "——————第 5 轮训练开始——————\n"
     ]
    },
    {
     "name": "stderr",
     "output_type": "stream",
     "text": [
      "训练: 100%|██████████| 19/19 [00:00<00:00, 76.08it/s]\n"
     ]
    },
    {
     "name": "stdout",
     "output_type": "stream",
     "text": [
      "epoch: 4, Loss: 1.4533599615097046, Acc: 0.6866776315789473\n",
      "整体验证集上的Loss: 1.5501266717910767\n",
      "整体验证集上的正确率: 0.6564144736842106\n",
      "——————第 6 轮训练开始——————\n"
     ]
    },
    {
     "name": "stderr",
     "output_type": "stream",
     "text": [
      "训练: 100%|██████████| 19/19 [00:00<00:00, 106.01it/s]\n"
     ]
    },
    {
     "name": "stdout",
     "output_type": "stream",
     "text": [
      "epoch: 5, Loss: 1.4489691257476807, Acc: 0.7080592105263158\n",
      "整体验证集上的Loss: 1.5467256307601929\n",
      "整体验证集上的正确率: 0.7202302631578947\n",
      "——————第 7 轮训练开始——————\n"
     ]
    },
    {
     "name": "stderr",
     "output_type": "stream",
     "text": [
      "训练: 100%|██████████| 19/19 [00:00<00:00, 111.69it/s]\n"
     ]
    },
    {
     "name": "stdout",
     "output_type": "stream",
     "text": [
      "epoch: 6, Loss: 1.4932360649108887, Acc: 0.7072368421052632\n",
      "整体验证集上的Loss: 1.548782229423523\n",
      "整体验证集上的正确率: 0.7055921052631579\n",
      "——————第 8 轮训练开始——————\n"
     ]
    },
    {
     "name": "stderr",
     "output_type": "stream",
     "text": [
      "训练: 100%|██████████| 19/19 [00:00<00:00, 151.09it/s]\n"
     ]
    },
    {
     "name": "stdout",
     "output_type": "stream",
     "text": [
      "epoch: 7, Loss: 1.459407091140747, Acc: 0.7220394736842105\n",
      "整体验证集上的Loss: 1.551383137702942\n",
      "整体验证集上的正确率: 0.7036184210526316\n",
      "——————第 9 轮训练开始——————\n"
     ]
    },
    {
     "name": "stderr",
     "output_type": "stream",
     "text": [
      "训练: 100%|██████████| 19/19 [00:00<00:00, 162.83it/s]\n"
     ]
    },
    {
     "name": "stdout",
     "output_type": "stream",
     "text": [
      "epoch: 8, Loss: 1.4896605014801025, Acc: 0.7360197368421053\n",
      "整体验证集上的Loss: 1.55320405960083\n",
      "整体验证集上的正确率: 0.7106907894736842\n",
      "——————第 10 轮训练开始——————\n"
     ]
    },
    {
     "name": "stderr",
     "output_type": "stream",
     "text": [
      "训练: 100%|██████████| 19/19 [00:00<00:00, 148.07it/s]\n"
     ]
    },
    {
     "name": "stdout",
     "output_type": "stream",
     "text": [
      "epoch: 9, Loss: 1.449216604232788, Acc: 0.7541118421052632\n",
      "整体验证集上的Loss: 1.553970217704773\n",
      "整体验证集上的正确率: 0.7023026315789473\n",
      "——————第 11 轮训练开始——————\n"
     ]
    },
    {
     "name": "stderr",
     "output_type": "stream",
     "text": [
      "训练: 100%|██████████| 19/19 [00:00<00:00, 142.17it/s]\n"
     ]
    },
    {
     "name": "stdout",
     "output_type": "stream",
     "text": [
      "epoch: 10, Loss: 1.495160698890686, Acc: 0.7516447368421053\n",
      "整体验证集上的Loss: 1.5489405393600464\n",
      "整体验证集上的正确率: 0.7138157894736843\n",
      "——————第 12 轮训练开始——————\n"
     ]
    },
    {
     "name": "stderr",
     "output_type": "stream",
     "text": [
      "训练: 100%|██████████| 19/19 [00:00<00:00, 139.06it/s]\n"
     ]
    },
    {
     "name": "stdout",
     "output_type": "stream",
     "text": [
      "epoch: 11, Loss: 1.4590890407562256, Acc: 0.7615131578947368\n",
      "整体验证集上的Loss: 1.5516791343688965\n",
      "整体验证集上的正确率: 0.7210526315789474\n",
      "——————第 13 轮训练开始——————\n"
     ]
    },
    {
     "name": "stderr",
     "output_type": "stream",
     "text": [
      "训练: 100%|██████████| 19/19 [00:00<00:00, 150.01it/s]\n"
     ]
    },
    {
     "name": "stdout",
     "output_type": "stream",
     "text": [
      "epoch: 12, Loss: 1.4527332782745361, Acc: 0.7557565789473685\n",
      "整体验证集上的Loss: 1.549109697341919\n",
      "整体验证集上的正确率: 0.7215460526315789\n",
      "——————第 14 轮训练开始——————\n"
     ]
    },
    {
     "name": "stderr",
     "output_type": "stream",
     "text": [
      "训练: 100%|██████████| 19/19 [00:00<00:00, 145.43it/s]"
     ]
    },
    {
     "name": "stdout",
     "output_type": "stream",
     "text": [
      "epoch: 13, Loss: 1.4533120393753052, Acc: 0.7680921052631579\n"
     ]
    },
    {
     "name": "stderr",
     "output_type": "stream",
     "text": [
      "\n"
     ]
    },
    {
     "name": "stdout",
     "output_type": "stream",
     "text": [
      "整体验证集上的Loss: 1.5516451597213745\n",
      "整体验证集上的正确率: 0.7077302631578947\n",
      "——————第 15 轮训练开始——————\n"
     ]
    },
    {
     "name": "stderr",
     "output_type": "stream",
     "text": [
      "训练: 100%|██████████| 19/19 [00:00<00:00, 76.65it/s]\n"
     ]
    },
    {
     "name": "stdout",
     "output_type": "stream",
     "text": [
      "epoch: 14, Loss: 1.4770625829696655, Acc: 0.772203947368421\n",
      "整体验证集上的Loss: 1.5501002073287964\n",
      "整体验证集上的正确率: 0.7421052631578947\n",
      "——————第 16 轮训练开始——————\n"
     ]
    },
    {
     "name": "stderr",
     "output_type": "stream",
     "text": [
      "训练: 100%|██████████| 19/19 [00:00<00:00, 100.63it/s]\n"
     ]
    },
    {
     "name": "stdout",
     "output_type": "stream",
     "text": [
      "epoch: 15, Loss: 1.45146906375885, Acc: 0.7623355263157895\n",
      "整体验证集上的Loss: 1.5504523515701294\n",
      "整体验证集上的正确率: 0.7327302631578947\n",
      "——————第 17 轮训练开始——————\n"
     ]
    },
    {
     "name": "stderr",
     "output_type": "stream",
     "text": [
      "训练: 100%|██████████| 19/19 [00:00<00:00, 118.61it/s]\n"
     ]
    },
    {
     "name": "stdout",
     "output_type": "stream",
     "text": [
      "epoch: 16, Loss: 1.4500714540481567, Acc: 0.765625\n",
      "整体验证集上的Loss: 1.5480432510375977\n",
      "整体验证集上的正确率: 0.7077302631578947\n",
      "——————第 18 轮训练开始——————\n"
     ]
    },
    {
     "name": "stderr",
     "output_type": "stream",
     "text": [
      "训练: 100%|██████████| 19/19 [00:00<00:00, 120.46it/s]\n"
     ]
    },
    {
     "name": "stdout",
     "output_type": "stream",
     "text": [
      "epoch: 17, Loss: 1.450798511505127, Acc: 0.7689144736842105\n",
      "整体验证集上的Loss: 1.5473734140396118\n",
      "整体验证集上的正确率: 0.6949013157894737\n",
      "——————第 19 轮训练开始——————\n"
     ]
    },
    {
     "name": "stderr",
     "output_type": "stream",
     "text": [
      "训练: 100%|██████████| 19/19 [00:00<00:00, 151.20it/s]\n"
     ]
    },
    {
     "name": "stdout",
     "output_type": "stream",
     "text": [
      "epoch: 18, Loss: 1.492457389831543, Acc: 0.772203947368421\n",
      "整体验证集上的Loss: 1.5515496730804443\n",
      "整体验证集上的正确率: 0.7065789473684211\n",
      "——————第 20 轮训练开始——————\n"
     ]
    },
    {
     "name": "stderr",
     "output_type": "stream",
     "text": [
      "训练: 100%|██████████| 19/19 [00:00<00:00, 150.01it/s]\n"
     ]
    },
    {
     "name": "stdout",
     "output_type": "stream",
     "text": [
      "epoch: 19, Loss: 1.528638482093811, Acc: 0.765625\n",
      "整体验证集上的Loss: 1.5486937761306763\n",
      "整体验证集上的正确率: 0.7172697368421053\n",
      "——————第 21 轮训练开始——————\n"
     ]
    },
    {
     "name": "stderr",
     "output_type": "stream",
     "text": [
      "训练: 100%|██████████| 19/19 [00:00<00:00, 151.56it/s]\n"
     ]
    },
    {
     "name": "stdout",
     "output_type": "stream",
     "text": [
      "epoch: 20, Loss: 1.4735548496246338, Acc: 0.7557565789473685\n",
      "整体验证集上的Loss: 1.5482836961746216\n",
      "整体验证集上的正确率: 0.6981907894736843\n",
      "——————第 22 轮训练开始——————\n"
     ]
    },
    {
     "name": "stderr",
     "output_type": "stream",
     "text": [
      "训练: 100%|██████████| 19/19 [00:00<00:00, 151.93it/s]\n"
     ]
    },
    {
     "name": "stdout",
     "output_type": "stream",
     "text": [
      "epoch: 21, Loss: 1.4922045469284058, Acc: 0.7598684210526315\n",
      "整体验证集上的Loss: 1.5484015941619873\n",
      "整体验证集上的正确率: 0.7077302631578947\n",
      "——————第 23 轮训练开始——————\n"
     ]
    },
    {
     "name": "stderr",
     "output_type": "stream",
     "text": [
      "训练: 100%|██████████| 19/19 [00:00<00:00, 137.06it/s]\n"
     ]
    },
    {
     "name": "stdout",
     "output_type": "stream",
     "text": [
      "epoch: 22, Loss: 1.4757691621780396, Acc: 0.7738486842105263\n",
      "整体验证集上的Loss: 1.549232840538025\n",
      "整体验证集上的正确率: 0.7245065789473684\n",
      "——————第 24 轮训练开始——————\n"
     ]
    },
    {
     "name": "stderr",
     "output_type": "stream",
     "text": [
      "训练: 100%|██████████| 19/19 [00:00<00:00, 98.23it/s]\n"
     ]
    },
    {
     "name": "stdout",
     "output_type": "stream",
     "text": [
      "epoch: 23, Loss: 1.449338674545288, Acc: 0.7697368421052632\n",
      "整体验证集上的Loss: 1.5481327772140503\n",
      "整体验证集上的正确率: 0.7151315789473685\n",
      "——————第 25 轮训练开始——————\n"
     ]
    },
    {
     "name": "stderr",
     "output_type": "stream",
     "text": [
      "训练: 100%|██████████| 19/19 [00:00<00:00, 90.41it/s]\n"
     ]
    },
    {
     "name": "stdout",
     "output_type": "stream",
     "text": [
      "epoch: 24, Loss: 1.4489279985427856, Acc: 0.7680921052631579\n",
      "整体验证集上的Loss: 1.5494965314865112\n",
      "整体验证集上的正确率: 0.7222039473684211\n",
      "——————第 26 轮训练开始——————\n"
     ]
    },
    {
     "name": "stderr",
     "output_type": "stream",
     "text": [
      "训练: 100%|██████████| 19/19 [00:00<00:00, 93.20it/s] \n"
     ]
    },
    {
     "name": "stdout",
     "output_type": "stream",
     "text": [
      "epoch: 25, Loss: 1.4515677690505981, Acc: 0.7738486842105263\n",
      "整体验证集上的Loss: 1.5490866899490356\n",
      "整体验证集上的正确率: 0.7348684210526316\n",
      "——————第 27 轮训练开始——————\n"
     ]
    },
    {
     "name": "stderr",
     "output_type": "stream",
     "text": [
      "训练: 100%|██████████| 19/19 [00:00<00:00, 104.21it/s]\n"
     ]
    },
    {
     "name": "stdout",
     "output_type": "stream",
     "text": [
      "epoch: 26, Loss: 1.4458473920822144, Acc: 0.772203947368421\n",
      "整体验证集上的Loss: 1.5517100095748901\n",
      "整体验证集上的正确率: 0.7327302631578947\n",
      "——————第 28 轮训练开始——————\n"
     ]
    },
    {
     "name": "stderr",
     "output_type": "stream",
     "text": [
      "训练: 100%|██████████| 19/19 [00:00<00:00, 127.68it/s]\n"
     ]
    },
    {
     "name": "stdout",
     "output_type": "stream",
     "text": [
      "epoch: 27, Loss: 1.4505674839019775, Acc: 0.7845394736842105\n",
      "整体验证集上的Loss: 1.5475255250930786\n",
      "整体验证集上的正确率: 0.7297697368421053\n",
      "——————第 29 轮训练开始——————\n"
     ]
    },
    {
     "name": "stderr",
     "output_type": "stream",
     "text": [
      "训练: 100%|██████████| 19/19 [00:00<00:00, 120.01it/s]\n"
     ]
    },
    {
     "name": "stdout",
     "output_type": "stream",
     "text": [
      "epoch: 28, Loss: 1.4815279245376587, Acc: 0.7935855263157895\n",
      "整体验证集上的Loss: 1.553149700164795\n",
      "整体验证集上的正确率: 0.7231907894736842\n",
      "——————第 30 轮训练开始——————\n"
     ]
    },
    {
     "name": "stderr",
     "output_type": "stream",
     "text": [
      "训练: 100%|██████████| 19/19 [00:00<00:00, 136.11it/s]\n"
     ]
    },
    {
     "name": "stdout",
     "output_type": "stream",
     "text": [
      "epoch: 29, Loss: 1.4516937732696533, Acc: 0.7779605263157895\n",
      "整体验证集上的Loss: 1.5485706329345703\n",
      "整体验证集上的正确率: 0.7305921052631579\n",
      "——————第 31 轮训练开始——————\n"
     ]
    },
    {
     "name": "stderr",
     "output_type": "stream",
     "text": [
      "训练: 100%|██████████| 19/19 [00:00<00:00, 145.43it/s]\n"
     ]
    },
    {
     "name": "stdout",
     "output_type": "stream",
     "text": [
      "epoch: 30, Loss: 1.4994723796844482, Acc: 0.7672697368421053\n",
      "整体验证集上的Loss: 1.5503977537155151\n",
      "整体验证集上的正确率: 0.7473684210526316\n",
      "——————第 32 轮训练开始——————\n"
     ]
    },
    {
     "name": "stderr",
     "output_type": "stream",
     "text": [
      "训练: 100%|██████████| 19/19 [00:00<00:00, 136.80it/s]\n"
     ]
    },
    {
     "name": "stdout",
     "output_type": "stream",
     "text": [
      "epoch: 31, Loss: 1.4483646154403687, Acc: 0.7935855263157895\n",
      "整体验证集上的Loss: 1.5468209981918335\n",
      "整体验证集上的正确率: 0.7266447368421053\n",
      "——————第 33 轮训练开始——————\n"
     ]
    },
    {
     "name": "stderr",
     "output_type": "stream",
     "text": [
      "训练: 100%|██████████| 19/19 [00:00<00:00, 157.45it/s]\n"
     ]
    },
    {
     "name": "stdout",
     "output_type": "stream",
     "text": [
      "epoch: 32, Loss: 1.4703813791275024, Acc: 0.7861842105263158\n",
      "整体验证集上的Loss: 1.5487151145935059\n",
      "整体验证集上的正确率: 0.7368421052631579\n",
      "——————第 34 轮训练开始——————\n"
     ]
    },
    {
     "name": "stderr",
     "output_type": "stream",
     "text": [
      "训练: 100%|██████████| 19/19 [00:00<00:00, 146.55it/s]\n"
     ]
    },
    {
     "name": "stdout",
     "output_type": "stream",
     "text": [
      "epoch: 33, Loss: 1.4469311237335205, Acc: 0.7935855263157895\n",
      "整体验证集上的Loss: 1.552021861076355\n",
      "整体验证集上的正确率: 0.6990131578947368\n",
      "——————第 35 轮训练开始——————\n"
     ]
    },
    {
     "name": "stderr",
     "output_type": "stream",
     "text": [
      "训练: 100%|██████████| 19/19 [00:00<00:00, 152.57it/s]\n"
     ]
    },
    {
     "name": "stdout",
     "output_type": "stream",
     "text": [
      "epoch: 34, Loss: 1.444973111152649, Acc: 0.7796052631578947\n",
      "整体验证集上的Loss: 1.5508391857147217\n",
      "整体验证集上的正确率: 0.694078947368421\n",
      "——————第 36 轮训练开始——————\n"
     ]
    },
    {
     "name": "stderr",
     "output_type": "stream",
     "text": [
      "训练: 100%|██████████| 19/19 [00:00<00:00, 77.92it/s]\n"
     ]
    },
    {
     "name": "stdout",
     "output_type": "stream",
     "text": [
      "epoch: 35, Loss: 1.4847285747528076, Acc: 0.7828947368421053\n",
      "整体验证集上的Loss: 1.5488353967666626\n",
      "整体验证集上的正确率: 0.7118421052631578\n",
      "——————第 37 轮训练开始——————\n"
     ]
    },
    {
     "name": "stderr",
     "output_type": "stream",
     "text": [
      "训练: 100%|██████████| 19/19 [00:00<00:00, 89.02it/s]\n"
     ]
    },
    {
     "name": "stdout",
     "output_type": "stream",
     "text": [
      "epoch: 36, Loss: 1.4476467370986938, Acc: 0.7886513157894737\n",
      "整体验证集上的Loss: 1.5468230247497559\n",
      "整体验证集上的正确率: 0.7328947368421053\n",
      "——————第 38 轮训练开始——————\n"
     ]
    },
    {
     "name": "stderr",
     "output_type": "stream",
     "text": [
      "训练: 100%|██████████| 19/19 [00:00<00:00, 113.95it/s]\n"
     ]
    },
    {
     "name": "stdout",
     "output_type": "stream",
     "text": [
      "epoch: 37, Loss: 1.4463595151901245, Acc: 0.7870065789473685\n",
      "整体验证集上的Loss: 1.5461620092391968\n",
      "整体验证集上的正确率: 0.7054276315789474\n",
      "——————第 39 轮训练开始——————\n"
     ]
    },
    {
     "name": "stderr",
     "output_type": "stream",
     "text": [
      "训练: 100%|██████████| 19/19 [00:00<00:00, 133.50it/s]\n"
     ]
    },
    {
     "name": "stdout",
     "output_type": "stream",
     "text": [
      "epoch: 38, Loss: 1.4477064609527588, Acc: 0.7779605263157895\n",
      "整体验证集上的Loss: 1.553038239479065\n",
      "整体验证集上的正确率: 0.7358552631578947\n",
      "——————第 40 轮训练开始——————\n"
     ]
    },
    {
     "name": "stderr",
     "output_type": "stream",
     "text": [
      "训练: 100%|██████████| 19/19 [00:00<00:00, 141.44it/s]\n"
     ]
    },
    {
     "name": "stdout",
     "output_type": "stream",
     "text": [
      "epoch: 39, Loss: 1.446173071861267, Acc: 0.7837171052631579\n",
      "整体验证集上的Loss: 1.5472949743270874\n",
      "整体验证集上的正确率: 0.727796052631579\n",
      "——————第 41 轮训练开始——————\n"
     ]
    },
    {
     "name": "stderr",
     "output_type": "stream",
     "text": [
      "训练: 100%|██████████| 19/19 [00:00<00:00, 138.05it/s]\n"
     ]
    },
    {
     "name": "stdout",
     "output_type": "stream",
     "text": [
      "epoch: 40, Loss: 1.4470374584197998, Acc: 0.7845394736842105\n",
      "整体验证集上的Loss: 1.5476548671722412\n",
      "整体验证集上的正确率: 0.7358552631578947\n",
      "——————第 42 轮训练开始——————\n"
     ]
    },
    {
     "name": "stderr",
     "output_type": "stream",
     "text": [
      "训练: 100%|██████████| 19/19 [00:00<00:00, 140.35it/s]\n"
     ]
    },
    {
     "name": "stdout",
     "output_type": "stream",
     "text": [
      "epoch: 41, Loss: 1.4469798803329468, Acc: 0.7894736842105263\n",
      "整体验证集上的Loss: 1.545864462852478\n",
      "整体验证集上的正确率: 0.7036184210526316\n",
      "——————第 43 轮训练开始——————\n"
     ]
    },
    {
     "name": "stderr",
     "output_type": "stream",
     "text": [
      "训练: 100%|██████████| 19/19 [00:00<00:00, 153.63it/s]\n"
     ]
    },
    {
     "name": "stdout",
     "output_type": "stream",
     "text": [
      "epoch: 42, Loss: 1.4461592435836792, Acc: 0.7870065789473685\n",
      "整体验证集上的Loss: 1.5471172332763672\n",
      "整体验证集上的正确率: 0.7442434210526316\n",
      "——————第 44 轮训练开始——————\n"
     ]
    },
    {
     "name": "stderr",
     "output_type": "stream",
     "text": [
      "训练: 100%|██████████| 19/19 [00:00<00:00, 141.14it/s]\n"
     ]
    },
    {
     "name": "stdout",
     "output_type": "stream",
     "text": [
      "epoch: 43, Loss: 1.4526019096374512, Acc: 0.7985197368421053\n",
      "整体验证集上的Loss: 1.5558993816375732\n",
      "整体验证集上的正确率: 0.7315789473684211\n",
      "——————第 45 轮训练开始——————\n"
     ]
    },
    {
     "name": "stderr",
     "output_type": "stream",
     "text": [
      "训练: 100%|██████████| 19/19 [00:00<00:00, 117.60it/s]"
     ]
    },
    {
     "name": "stdout",
     "output_type": "stream",
     "text": [
      "epoch: 44, Loss: 1.525040864944458, Acc: 0.7911184210526315\n",
      "整体验证集上的Loss: 1.5467082262039185\n",
      "整体验证集上的正确率: 0.7643092105263157\n",
      "——————第 46 轮训练开始——————\n"
     ]
    },
    {
     "name": "stderr",
     "output_type": "stream",
     "text": [
      "\n",
      "训练: 100%|██████████| 19/19 [00:00<00:00, 78.61it/s]\n"
     ]
    },
    {
     "name": "stdout",
     "output_type": "stream",
     "text": [
      "epoch: 45, Loss: 1.4517253637313843, Acc: 0.7919407894736842\n",
      "整体验证集上的Loss: 1.5482763051986694\n",
      "整体验证集上的正确率: 0.7435855263157894\n",
      "——————第 47 轮训练开始——————\n"
     ]
    },
    {
     "name": "stderr",
     "output_type": "stream",
     "text": [
      "训练: 100%|██████████| 19/19 [00:00<00:00, 97.49it/s] \n"
     ]
    },
    {
     "name": "stdout",
     "output_type": "stream",
     "text": [
      "epoch: 46, Loss: 1.45065438747406, Acc: 0.796875\n",
      "整体验证集上的Loss: 1.5463695526123047\n",
      "整体验证集上的正确率: 0.7442434210526316\n",
      "——————第 48 轮训练开始——————\n"
     ]
    },
    {
     "name": "stderr",
     "output_type": "stream",
     "text": [
      "训练: 100%|██████████| 19/19 [00:00<00:00, 115.43it/s]\n"
     ]
    },
    {
     "name": "stdout",
     "output_type": "stream",
     "text": [
      "epoch: 47, Loss: 1.44961416721344, Acc: 0.7919407894736842\n",
      "整体验证集上的Loss: 1.5492242574691772\n",
      "整体验证集上的正确率: 0.7348684210526316\n",
      "——————第 49 轮训练开始——————\n"
     ]
    },
    {
     "name": "stderr",
     "output_type": "stream",
     "text": [
      "训练: 100%|██████████| 19/19 [00:00<00:00, 110.05it/s]\n"
     ]
    },
    {
     "name": "stdout",
     "output_type": "stream",
     "text": [
      "epoch: 48, Loss: 1.4505012035369873, Acc: 0.7944078947368421\n",
      "整体验证集上的Loss: 1.5474944114685059\n",
      "整体验证集上的正确率: 0.725328947368421\n",
      "——————第 50 轮训练开始——————\n"
     ]
    },
    {
     "name": "stderr",
     "output_type": "stream",
     "text": [
      "训练: 100%|██████████| 19/19 [00:00<00:00, 152.41it/s]\n"
     ]
    },
    {
     "name": "stdout",
     "output_type": "stream",
     "text": [
      "epoch: 49, Loss: 1.4470133781433105, Acc: 0.7911184210526315\n",
      "整体验证集上的Loss: 1.5478028059005737\n",
      "整体验证集上的正确率: 0.7148026315789473\n",
      "——————第 51 轮训练开始——————\n"
     ]
    },
    {
     "name": "stderr",
     "output_type": "stream",
     "text": [
      "训练: 100%|██████████| 19/19 [00:00<00:00, 132.41it/s]\n"
     ]
    },
    {
     "name": "stdout",
     "output_type": "stream",
     "text": [
      "epoch: 50, Loss: 1.4489878416061401, Acc: 0.7894736842105263\n",
      "整体验证集上的Loss: 1.5477312803268433\n",
      "整体验证集上的正确率: 0.7338815789473684\n",
      "——————第 52 轮训练开始——————\n"
     ]
    },
    {
     "name": "stderr",
     "output_type": "stream",
     "text": [
      "训练: 100%|██████████| 19/19 [00:00<00:00, 135.11it/s]\n"
     ]
    },
    {
     "name": "stdout",
     "output_type": "stream",
     "text": [
      "epoch: 51, Loss: 1.4634374380111694, Acc: 0.7919407894736842\n",
      "整体验证集上的Loss: 1.5495350360870361\n",
      "整体验证集上的正确率: 0.6929276315789473\n",
      "——————第 53 轮训练开始——————\n"
     ]
    },
    {
     "name": "stderr",
     "output_type": "stream",
     "text": [
      "训练: 100%|██████████| 19/19 [00:00<00:00, 146.21it/s]\n"
     ]
    },
    {
     "name": "stdout",
     "output_type": "stream",
     "text": [
      "epoch: 52, Loss: 1.4580485820770264, Acc: 0.7861842105263158\n",
      "整体验证集上的Loss: 1.5502790212631226\n",
      "整体验证集上的正确率: 0.7055921052631579\n",
      "——————第 54 轮训练开始——————\n"
     ]
    },
    {
     "name": "stderr",
     "output_type": "stream",
     "text": [
      "训练: 100%|██████████| 19/19 [00:00<00:00, 144.32it/s]\n"
     ]
    },
    {
     "name": "stdout",
     "output_type": "stream",
     "text": [
      "epoch: 53, Loss: 1.4471126794815063, Acc: 0.7828947368421053\n",
      "整体验证集上的Loss: 1.5544945001602173\n",
      "整体验证集上的正确率: 0.7161184210526316\n",
      "——————第 55 轮训练开始——————\n"
     ]
    },
    {
     "name": "stderr",
     "output_type": "stream",
     "text": [
      "训练: 100%|██████████| 19/19 [00:00<00:00, 127.46it/s]"
     ]
    },
    {
     "name": "stdout",
     "output_type": "stream",
     "text": [
      "epoch: 54, Loss: 1.4926044940948486, Acc: 0.7935855263157895\n",
      "整体验证集上的Loss: 1.5488134622573853\n",
      "整体验证集上的正确率: 0.725328947368421\n",
      "——————第 56 轮训练开始——————\n"
     ]
    },
    {
     "name": "stderr",
     "output_type": "stream",
     "text": [
      "\n",
      "训练: 100%|██████████| 19/19 [00:00<00:00, 81.55it/s]\n"
     ]
    },
    {
     "name": "stdout",
     "output_type": "stream",
     "text": [
      "epoch: 55, Loss: 1.4488343000411987, Acc: 0.796875\n",
      "整体验证集上的Loss: 1.5457576513290405\n",
      "整体验证集上的正确率: 0.7307565789473685\n",
      "——————第 57 轮训练开始——————\n"
     ]
    },
    {
     "name": "stderr",
     "output_type": "stream",
     "text": [
      "训练: 100%|██████████| 19/19 [00:00<00:00, 86.28it/s] \n"
     ]
    },
    {
     "name": "stdout",
     "output_type": "stream",
     "text": [
      "epoch: 56, Loss: 1.4478098154067993, Acc: 0.7935855263157895\n",
      "整体验证集上的Loss: 1.5494420528411865\n",
      "整体验证集上的正确率: 0.7241776315789473\n",
      "——————第 58 轮训练开始——————\n"
     ]
    },
    {
     "name": "stderr",
     "output_type": "stream",
     "text": [
      "训练: 100%|██████████| 19/19 [00:00<00:00, 98.19it/s]\n"
     ]
    },
    {
     "name": "stdout",
     "output_type": "stream",
     "text": [
      "epoch: 57, Loss: 1.4920344352722168, Acc: 0.7911184210526315\n",
      "整体验证集上的Loss: 1.5467469692230225\n",
      "整体验证集上的正确率: 0.7557565789473684\n",
      "——————第 59 轮训练开始——————\n"
     ]
    },
    {
     "name": "stderr",
     "output_type": "stream",
     "text": [
      "训练: 100%|██████████| 19/19 [00:00<00:00, 102.35it/s]\n"
     ]
    },
    {
     "name": "stdout",
     "output_type": "stream",
     "text": [
      "epoch: 58, Loss: 1.450230598449707, Acc: 0.7993421052631579\n",
      "整体验证集上的Loss: 1.5498194694519043\n",
      "整体验证集上的正确率: 0.6980263157894737\n",
      "——————第 60 轮训练开始——————\n"
     ]
    },
    {
     "name": "stderr",
     "output_type": "stream",
     "text": [
      "训练: 100%|██████████| 19/19 [00:00<00:00, 127.86it/s]\n"
     ]
    },
    {
     "name": "stdout",
     "output_type": "stream",
     "text": [
      "epoch: 59, Loss: 1.4908448457717896, Acc: 0.790296052631579\n",
      "整体验证集上的Loss: 1.546622395515442\n",
      "整体验证集上的正确率: 0.7116776315789474\n",
      "——————第 61 轮训练开始——————\n"
     ]
    },
    {
     "name": "stderr",
     "output_type": "stream",
     "text": [
      "训练: 100%|██████████| 19/19 [00:00<00:00, 118.74it/s]\n"
     ]
    },
    {
     "name": "stdout",
     "output_type": "stream",
     "text": [
      "epoch: 60, Loss: 1.4450839757919312, Acc: 0.7944078947368421\n",
      "整体验证集上的Loss: 1.5495007038116455\n",
      "整体验证集上的正确率: 0.7254934210526316\n",
      "——————第 62 轮训练开始——————\n"
     ]
    },
    {
     "name": "stderr",
     "output_type": "stream",
     "text": [
      "训练: 100%|██████████| 19/19 [00:00<00:00, 130.48it/s]\n"
     ]
    },
    {
     "name": "stdout",
     "output_type": "stream",
     "text": [
      "epoch: 61, Loss: 1.4464128017425537, Acc: 0.8018092105263158\n",
      "整体验证集上的Loss: 1.5489531755447388\n",
      "整体验证集上的正确率: 0.7495065789473684\n",
      "——————第 63 轮训练开始——————\n"
     ]
    },
    {
     "name": "stderr",
     "output_type": "stream",
     "text": [
      "训练: 100%|██████████| 19/19 [00:00<00:00, 128.04it/s]\n"
     ]
    },
    {
     "name": "stdout",
     "output_type": "stream",
     "text": [
      "epoch: 62, Loss: 1.490279197692871, Acc: 0.7853618421052632\n",
      "整体验证集上的Loss: 1.5469914674758911\n",
      "整体验证集上的正确率: 0.7421052631578947\n",
      "——————第 64 轮训练开始——————\n"
     ]
    },
    {
     "name": "stderr",
     "output_type": "stream",
     "text": [
      "训练: 100%|██████████| 19/19 [00:00<00:00, 125.22it/s]\n"
     ]
    },
    {
     "name": "stdout",
     "output_type": "stream",
     "text": [
      "epoch: 63, Loss: 1.448603630065918, Acc: 0.7944078947368421\n",
      "整体验证集上的Loss: 1.5468653440475464\n",
      "整体验证集上的正确率: 0.7399671052631579\n",
      "——————第 65 轮训练开始——————\n"
     ]
    },
    {
     "name": "stderr",
     "output_type": "stream",
     "text": [
      "训练: 100%|██████████| 19/19 [00:00<00:00, 129.62it/s]\n"
     ]
    },
    {
     "name": "stdout",
     "output_type": "stream",
     "text": [
      "epoch: 64, Loss: 1.4457283020019531, Acc: 0.7952302631578947\n",
      "整体验证集上的Loss: 1.5502246618270874\n",
      "整体验证集上的正确率: 0.740953947368421\n",
      "——————第 66 轮训练开始——————\n"
     ]
    },
    {
     "name": "stderr",
     "output_type": "stream",
     "text": [
      "训练: 100%|██████████| 19/19 [00:00<00:00, 82.64it/s]\n"
     ]
    },
    {
     "name": "stdout",
     "output_type": "stream",
     "text": [
      "epoch: 65, Loss: 1.4458191394805908, Acc: 0.8001644736842105\n",
      "整体验证集上的Loss: 1.5533084869384766\n",
      "整体验证集上的正确率: 0.7213815789473684\n",
      "——————第 67 轮训练开始——————\n"
     ]
    },
    {
     "name": "stderr",
     "output_type": "stream",
     "text": [
      "训练: 100%|██████████| 19/19 [00:00<00:00, 79.19it/s]\n"
     ]
    },
    {
     "name": "stdout",
     "output_type": "stream",
     "text": [
      "epoch: 66, Loss: 1.4417206048965454, Acc: 0.8018092105263158\n",
      "整体验证集上的Loss: 1.5521405935287476\n",
      "整体验证集上的正确率: 0.7189144736842106\n",
      "——————第 68 轮训练开始——————\n"
     ]
    },
    {
     "name": "stderr",
     "output_type": "stream",
     "text": [
      "训练: 100%|██████████| 19/19 [00:00<00:00, 102.84it/s]\n"
     ]
    },
    {
     "name": "stdout",
     "output_type": "stream",
     "text": [
      "epoch: 67, Loss: 1.4845483303070068, Acc: 0.8092105263157895\n",
      "整体验证集上的Loss: 1.5493329763412476\n",
      "整体验证集上的正确率: 0.7527960526315789\n",
      "——————第 69 轮训练开始——————\n"
     ]
    },
    {
     "name": "stderr",
     "output_type": "stream",
     "text": [
      "训练: 100%|██████████| 19/19 [00:00<00:00, 114.00it/s]\n"
     ]
    },
    {
     "name": "stdout",
     "output_type": "stream",
     "text": [
      "epoch: 68, Loss: 1.4453799724578857, Acc: 0.803453947368421\n",
      "整体验证集上的Loss: 1.549665093421936\n",
      "整体验证集上的正确率: 0.7430921052631578\n",
      "——————第 70 轮训练开始——————\n"
     ]
    },
    {
     "name": "stderr",
     "output_type": "stream",
     "text": [
      "训练: 100%|██████████| 19/19 [00:00<00:00, 126.33it/s]\n"
     ]
    },
    {
     "name": "stdout",
     "output_type": "stream",
     "text": [
      "epoch: 69, Loss: 1.4484939575195312, Acc: 0.7976973684210527\n",
      "整体验证集上的Loss: 1.5467551946640015\n",
      "整体验证集上的正确率: 0.7222039473684211\n",
      "——————第 71 轮训练开始——————\n"
     ]
    },
    {
     "name": "stderr",
     "output_type": "stream",
     "text": [
      "训练: 100%|██████████| 19/19 [00:00<00:00, 141.59it/s]\n"
     ]
    },
    {
     "name": "stdout",
     "output_type": "stream",
     "text": [
      "epoch: 70, Loss: 1.4431617259979248, Acc: 0.8026315789473685\n",
      "整体验证集上的Loss: 1.5485857725143433\n",
      "整体验证集上的正确率: 0.7368421052631579\n",
      "——————第 72 轮训练开始——————\n"
     ]
    },
    {
     "name": "stderr",
     "output_type": "stream",
     "text": [
      "训练: 100%|██████████| 19/19 [00:00<00:00, 98.82it/s]\n"
     ]
    },
    {
     "name": "stdout",
     "output_type": "stream",
     "text": [
      "epoch: 71, Loss: 1.4475905895233154, Acc: 0.8116776315789473\n",
      "整体验证集上的Loss: 1.5476710796356201\n",
      "整体验证集上的正确率: 0.7495065789473684\n",
      "——————第 73 轮训练开始——————\n"
     ]
    },
    {
     "name": "stderr",
     "output_type": "stream",
     "text": [
      "训练: 100%|██████████| 19/19 [00:00<00:00, 129.56it/s]\n"
     ]
    },
    {
     "name": "stdout",
     "output_type": "stream",
     "text": [
      "epoch: 72, Loss: 1.4460386037826538, Acc: 0.8018092105263158\n",
      "整体验证集上的Loss: 1.5461549758911133\n",
      "整体验证集上的正确率: 0.7294407894736843\n",
      "——————第 74 轮训练开始——————\n"
     ]
    },
    {
     "name": "stderr",
     "output_type": "stream",
     "text": [
      "训练: 100%|██████████| 19/19 [00:00<00:00, 131.38it/s]\n"
     ]
    },
    {
     "name": "stdout",
     "output_type": "stream",
     "text": [
      "epoch: 73, Loss: 1.4493640661239624, Acc: 0.8067434210526315\n",
      "整体验证集上的Loss: 1.5498555898666382\n",
      "整体验证集上的正确率: 0.7578947368421053\n",
      "——————第 75 轮训练开始——————\n"
     ]
    },
    {
     "name": "stderr",
     "output_type": "stream",
     "text": [
      "训练: 100%|██████████| 19/19 [00:00<00:00, 142.57it/s]\n"
     ]
    },
    {
     "name": "stdout",
     "output_type": "stream",
     "text": [
      "epoch: 74, Loss: 1.489606261253357, Acc: 0.7993421052631579\n",
      "整体验证集上的Loss: 1.548282504081726\n",
      "整体验证集上的正确率: 0.7421052631578947\n",
      "——————第 76 轮训练开始——————\n"
     ]
    },
    {
     "name": "stderr",
     "output_type": "stream",
     "text": [
      "训练: 100%|██████████| 19/19 [00:00<00:00, 110.12it/s]\n"
     ]
    },
    {
     "name": "stdout",
     "output_type": "stream",
     "text": [
      "epoch: 75, Loss: 1.4465488195419312, Acc: 0.8083881578947368\n",
      "整体验证集上的Loss: 1.5505781173706055\n",
      "整体验证集上的正确率: 0.7442434210526316\n",
      "——————第 77 轮训练开始——————\n"
     ]
    },
    {
     "name": "stderr",
     "output_type": "stream",
     "text": [
      "训练: 100%|██████████| 19/19 [00:00<00:00, 66.89it/s]\n"
     ]
    },
    {
     "name": "stdout",
     "output_type": "stream",
     "text": [
      "epoch: 76, Loss: 1.4456706047058105, Acc: 0.8001644736842105\n",
      "整体验证集上的Loss: 1.5459400415420532\n",
      "整体验证集上的正确率: 0.7557565789473684\n",
      "——————第 78 轮训练开始——————\n"
     ]
    },
    {
     "name": "stderr",
     "output_type": "stream",
     "text": [
      "训练: 100%|██████████| 19/19 [00:00<00:00, 102.03it/s]\n"
     ]
    },
    {
     "name": "stdout",
     "output_type": "stream",
     "text": [
      "epoch: 77, Loss: 1.4470341205596924, Acc: 0.805921052631579\n",
      "整体验证集上的Loss: 1.5476237535476685\n",
      "整体验证集上的正确率: 0.7506578947368421\n",
      "——————第 79 轮训练开始——————\n"
     ]
    },
    {
     "name": "stderr",
     "output_type": "stream",
     "text": [
      "训练: 100%|██████████| 19/19 [00:00<00:00, 122.46it/s]\n"
     ]
    },
    {
     "name": "stdout",
     "output_type": "stream",
     "text": [
      "epoch: 78, Loss: 1.4462522268295288, Acc: 0.803453947368421\n",
      "整体验证集上的Loss: 1.5459293127059937\n",
      "整体验证集上的正确率: 0.7559210526315789\n",
      "——————第 80 轮训练开始——————\n"
     ]
    },
    {
     "name": "stderr",
     "output_type": "stream",
     "text": [
      "训练: 100%|██████████| 19/19 [00:00<00:00, 122.91it/s]\n"
     ]
    },
    {
     "name": "stdout",
     "output_type": "stream",
     "text": [
      "epoch: 79, Loss: 1.44496488571167, Acc: 0.8125\n",
      "整体验证集上的Loss: 1.548201322555542\n",
      "整体验证集上的正确率: 0.7651315789473684\n",
      "——————第 81 轮训练开始——————\n"
     ]
    },
    {
     "name": "stderr",
     "output_type": "stream",
     "text": [
      "训练: 100%|██████████| 19/19 [00:00<00:00, 143.69it/s]\n"
     ]
    },
    {
     "name": "stdout",
     "output_type": "stream",
     "text": [
      "epoch: 80, Loss: 1.4490646123886108, Acc: 0.803453947368421\n",
      "整体验证集上的Loss: 1.5468729734420776\n",
      "整体验证集上的正确率: 0.7546052631578947\n",
      "——————第 82 轮训练开始——————\n"
     ]
    },
    {
     "name": "stderr",
     "output_type": "stream",
     "text": [
      "训练: 100%|██████████| 19/19 [00:00<00:00, 143.29it/s]\n"
     ]
    },
    {
     "name": "stdout",
     "output_type": "stream",
     "text": [
      "epoch: 81, Loss: 1.4478942155838013, Acc: 0.8050986842105263\n",
      "整体验证集上的Loss: 1.5499173402786255\n",
      "整体验证集上的正确率: 0.7620065789473685\n",
      "——————第 83 轮训练开始——————\n"
     ]
    },
    {
     "name": "stderr",
     "output_type": "stream",
     "text": [
      "训练: 100%|██████████| 19/19 [00:00<00:00, 120.27it/s]\n"
     ]
    },
    {
     "name": "stdout",
     "output_type": "stream",
     "text": [
      "epoch: 82, Loss: 1.4449831247329712, Acc: 0.8026315789473685\n",
      "整体验证集上的Loss: 1.5487571954727173\n",
      "整体验证集上的正确率: 0.743421052631579\n",
      "——————第 84 轮训练开始——————\n"
     ]
    },
    {
     "name": "stderr",
     "output_type": "stream",
     "text": [
      "训练: 100%|██████████| 19/19 [00:00<00:00, 134.16it/s]\n"
     ]
    },
    {
     "name": "stdout",
     "output_type": "stream",
     "text": [
      "epoch: 83, Loss: 1.4481909275054932, Acc: 0.7985197368421053\n",
      "整体验证集上的Loss: 1.5513836145401\n",
      "整体验证集上的正确率: 0.703125\n",
      "——————第 85 轮训练开始——————\n"
     ]
    },
    {
     "name": "stderr",
     "output_type": "stream",
     "text": [
      "训练: 100%|██████████| 19/19 [00:00<00:00, 86.71it/s] \n"
     ]
    },
    {
     "name": "stdout",
     "output_type": "stream",
     "text": [
      "epoch: 84, Loss: 1.489413857460022, Acc: 0.8009868421052632\n",
      "整体验证集上的Loss: 1.552956461906433\n",
      "整体验证集上的正确率: 0.6990131578947368\n",
      "——————第 86 轮训练开始——————\n"
     ]
    },
    {
     "name": "stderr",
     "output_type": "stream",
     "text": [
      "训练: 100%|██████████| 19/19 [00:00<00:00, 91.64it/s]\n"
     ]
    },
    {
     "name": "stdout",
     "output_type": "stream",
     "text": [
      "epoch: 85, Loss: 1.451772928237915, Acc: 0.8050986842105263\n",
      "整体验证集上的Loss: 1.5522922277450562\n",
      "整体验证集上的正确率: 0.7462171052631579\n",
      "——————第 87 轮训练开始——————\n"
     ]
    },
    {
     "name": "stderr",
     "output_type": "stream",
     "text": [
      "训练: 100%|██████████| 19/19 [00:00<00:00, 103.28it/s]\n"
     ]
    },
    {
     "name": "stdout",
     "output_type": "stream",
     "text": [
      "epoch: 86, Loss: 1.4461004734039307, Acc: 0.8083881578947368\n",
      "整体验证集上的Loss: 1.5483484268188477\n",
      "整体验证集上的正确率: 0.7537828947368421\n",
      "——————第 88 轮训练开始——————\n"
     ]
    },
    {
     "name": "stderr",
     "output_type": "stream",
     "text": [
      "训练: 100%|██████████| 19/19 [00:00<00:00, 98.84it/s]\n"
     ]
    },
    {
     "name": "stdout",
     "output_type": "stream",
     "text": [
      "epoch: 87, Loss: 1.4454141855239868, Acc: 0.8116776315789473\n",
      "整体验证集上的Loss: 1.553800344467163\n",
      "整体验证集上的正确率: 0.7233552631578947\n",
      "——————第 89 轮训练开始——————\n"
     ]
    },
    {
     "name": "stderr",
     "output_type": "stream",
     "text": [
      "训练: 100%|██████████| 19/19 [00:00<00:00, 95.49it/s] \n"
     ]
    },
    {
     "name": "stdout",
     "output_type": "stream",
     "text": [
      "epoch: 88, Loss: 1.4540033340454102, Acc: 0.8125\n",
      "整体验证集上的Loss: 1.5474821329116821\n",
      "整体验证集上的正确率: 0.7598684210526316\n",
      "——————第 90 轮训练开始——————\n"
     ]
    },
    {
     "name": "stderr",
     "output_type": "stream",
     "text": [
      "训练: 100%|██████████| 19/19 [00:00<00:00, 105.84it/s]\n"
     ]
    },
    {
     "name": "stdout",
     "output_type": "stream",
     "text": [
      "epoch: 89, Loss: 1.4497052431106567, Acc: 0.8092105263157895\n",
      "整体验证集上的Loss: 1.5537313222885132\n",
      "整体验证集上的正确率: 0.7422697368421053\n",
      "——————第 91 轮训练开始——————\n"
     ]
    },
    {
     "name": "stderr",
     "output_type": "stream",
     "text": [
      "训练: 100%|██████████| 19/19 [00:00<00:00, 129.01it/s]\n"
     ]
    },
    {
     "name": "stdout",
     "output_type": "stream",
     "text": [
      "epoch: 90, Loss: 1.4468156099319458, Acc: 0.8026315789473685\n",
      "整体验证集上的Loss: 1.5510337352752686\n",
      "整体验证集上的正确率: 0.7095394736842106\n",
      "——————第 92 轮训练开始——————\n"
     ]
    },
    {
     "name": "stderr",
     "output_type": "stream",
     "text": [
      "训练: 100%|██████████| 19/19 [00:00<00:00, 99.97it/s]\n"
     ]
    },
    {
     "name": "stdout",
     "output_type": "stream",
     "text": [
      "epoch: 91, Loss: 1.4829444885253906, Acc: 0.8018092105263158\n",
      "整体验证集上的Loss: 1.5471500158309937\n",
      "整体验证集上的正确率: 0.7534539473684211\n",
      "——————第 93 轮训练开始——————\n"
     ]
    },
    {
     "name": "stderr",
     "output_type": "stream",
     "text": [
      "训练: 100%|██████████| 19/19 [00:00<00:00, 128.63it/s]\n"
     ]
    },
    {
     "name": "stdout",
     "output_type": "stream",
     "text": [
      "epoch: 92, Loss: 1.446069359779358, Acc: 0.8100328947368421\n",
      "整体验证集上的Loss: 1.5469542741775513\n",
      "整体验证集上的正确率: 0.749671052631579\n",
      "——————第 94 轮训练开始——————\n"
     ]
    },
    {
     "name": "stderr",
     "output_type": "stream",
     "text": [
      "训练: 100%|██████████| 19/19 [00:00<00:00, 133.57it/s]\n"
     ]
    },
    {
     "name": "stdout",
     "output_type": "stream",
     "text": [
      "epoch: 93, Loss: 1.4669464826583862, Acc: 0.8100328947368421\n",
      "整体验证集上的Loss: 1.5473908185958862\n",
      "整体验证集上的正确率: 0.7547697368421054\n",
      "——————第 95 轮训练开始——————\n"
     ]
    },
    {
     "name": "stderr",
     "output_type": "stream",
     "text": [
      "训练: 100%|██████████| 19/19 [00:00<00:00, 113.01it/s]\n"
     ]
    },
    {
     "name": "stdout",
     "output_type": "stream",
     "text": [
      "epoch: 94, Loss: 1.446407437324524, Acc: 0.8050986842105263\n",
      "整体验证集上的Loss: 1.548064112663269\n",
      "整体验证集上的正确率: 0.7600328947368421\n",
      "——————第 96 轮训练开始——————\n"
     ]
    },
    {
     "name": "stderr",
     "output_type": "stream",
     "text": [
      "训练: 100%|██████████| 19/19 [00:00<00:00, 94.05it/s] \n"
     ]
    },
    {
     "name": "stdout",
     "output_type": "stream",
     "text": [
      "epoch: 95, Loss: 1.4460562467575073, Acc: 0.8009868421052632\n",
      "整体验证集上的Loss: 1.5454691648483276\n",
      "整体验证集上的正确率: 0.7495065789473684\n",
      "——————第 97 轮训练开始——————\n"
     ]
    },
    {
     "name": "stderr",
     "output_type": "stream",
     "text": [
      "训练: 100%|██████████| 19/19 [00:00<00:00, 81.68it/s]\n"
     ]
    },
    {
     "name": "stdout",
     "output_type": "stream",
     "text": [
      "epoch: 96, Loss: 1.4462611675262451, Acc: 0.8075657894736842\n",
      "整体验证集上的Loss: 1.5489301681518555\n",
      "整体验证集上的正确率: 0.740953947368421\n",
      "——————第 98 轮训练开始——————\n"
     ]
    },
    {
     "name": "stderr",
     "output_type": "stream",
     "text": [
      "训练: 100%|██████████| 19/19 [00:00<00:00, 114.85it/s]\n"
     ]
    },
    {
     "name": "stdout",
     "output_type": "stream",
     "text": [
      "epoch: 97, Loss: 1.4444139003753662, Acc: 0.8042763157894737\n",
      "整体验证集上的Loss: 1.5481716394424438\n",
      "整体验证集上的正确率: 0.7463815789473685\n",
      "——————第 99 轮训练开始——————\n"
     ]
    },
    {
     "name": "stderr",
     "output_type": "stream",
     "text": [
      "训练: 100%|██████████| 19/19 [00:00<00:00, 120.71it/s]\n"
     ]
    },
    {
     "name": "stdout",
     "output_type": "stream",
     "text": [
      "epoch: 98, Loss: 1.4464561939239502, Acc: 0.8083881578947368\n",
      "整体验证集上的Loss: 1.5481878519058228\n",
      "整体验证集上的正确率: 0.7429276315789474\n",
      "——————第 100 轮训练开始——————\n"
     ]
    },
    {
     "name": "stderr",
     "output_type": "stream",
     "text": [
      "训练: 100%|██████████| 19/19 [00:00<00:00, 131.38it/s]"
     ]
    },
    {
     "name": "stdout",
     "output_type": "stream",
     "text": [
      "epoch: 99, Loss: 1.4468317031860352, Acc: 0.8083881578947368\n",
      "整体验证集上的Loss: 1.5464153289794922\n",
      "整体验证集上的正确率: 0.7421052631578947\n"
     ]
    },
    {
     "name": "stderr",
     "output_type": "stream",
     "text": [
      "\n"
     ]
    }
   ],
   "source": [
    "net = MLP(train_x.shape[1], [256, 64, 32], len(label_encoder.classes_))\n",
    "device = torch.device('cuda' if torch.cuda.is_available else 'cpu')\n",
    "loss = nn.CrossEntropyLoss() # label要是torch.int64类型的(不是one-hot)\n",
    "train_losses, train_acces, eval_acces = train(net, loss, train_dataset=train_dataset, valid_dataset=valid_dataset, \\\n",
    "                                              device=device, batch_size=64, num_epoch=100, lr=1e-3, lr_min=1e-4, \n",
    "                                              optim='adam', init=True, shuffle=True)"
   ]
  },
  {
   "attachments": {},
   "cell_type": "markdown",
   "metadata": {},
   "source": [
    "# visualize losses and acces"
   ]
  },
  {
   "cell_type": "code",
   "execution_count": 46,
   "metadata": {},
   "outputs": [],
   "source": [
    "def show_acces(train_losses, train_acces, valid_acces): # 对准确率和loss画图显得直观\n",
    "    plt.plot(1 + np.arange(len(train_losses)), train_losses, linewidth=1.5, linestyle='dashed', label='train_losses')\n",
    "    plt.plot(1 + np.arange(len(train_acces)), train_acces, linewidth=1.5, linestyle='dashed', label='train_acces')\n",
    "    plt.plot(1 + np.arange(len(valid_acces)), valid_acces, linewidth=1.5, linestyle='dashed', label='valid_acces')\n",
    "    plt.grid()\n",
    "    plt.xlabel('epoch')\n",
    "    # plt.xticks(range(1, 1 + num_epoch, 1))\n",
    "    plt.legend()\n",
    "    plt.show()"
   ]
  },
  {
   "cell_type": "code",
   "execution_count": 49,
   "metadata": {},
   "outputs": [
    {
     "data": {
      "image/png": "[encoded data removed]",
      "text/plain": [
       "<Figure size 432x288 with 1 Axes>"
      ]
     },
     "metadata": {
      "needs_background": "light"
     },
     "output_type": "display_data"
    }
   ],
   "source": [
    "show_acces(train_losses, train_acces, eval_acces)"
   ]
  },
  {
   "attachments": {},
   "cell_type": "markdown",
   "metadata": {},
   "source": [
    "# torch predict"
   ]
  },
  {
   "cell_type": "code",
   "execution_count": 32,
   "metadata": {},
   "outputs": [],
   "source": [
    "def predict(test_loader, model, device):\n",
    "    model.to(device)\n",
    "    model.eval() # Set your model to evaluation mode.\n",
    "    preds = []\n",
    "\n",
    "    for x in tqdm(test_loader):\n",
    "        x = x.to(device)\n",
    "        with torch.no_grad():                   \n",
    "            pred = model(x)\n",
    "            _, pred = pred.max(1)         \n",
    "            preds.append(pred.detach().cpu()) # 读出无grad类型的数据\n",
    "    preds = torch.cat(preds, dim=0).numpy()  \n",
    "    return preds"
   ]
  },
  {
   "cell_type": "code",
   "execution_count": 19,
   "metadata": {},
   "outputs": [
    {
     "data": {
      "text/plain": [
       "<All keys matched successfully>"
      ]
     },
     "execution_count": 19,
     "metadata": {},
     "output_type": "execute_result"
    }
   ],
   "source": [
    "model_state = torch.load(\"./best_acc.pth\")\n",
    "model = MLP(train_x.shape[1], [256, 64, 32], len(label_encoder.classes_))\n",
    "model.load_state_dict(model_state)"
   ]
  },
  {
   "cell_type": "code",
   "execution_count": 25,
   "metadata": {},
   "outputs": [],
   "source": [
    "class MytestDataSet(Dataset):\n",
    "    def __init__(self, x):\n",
    "        self.x = torch.FloatTensor(x)\n",
    "    \n",
    "    def __getitem__(self, idx):\n",
    "        return self.x[idx]\n",
    "    \n",
    "    def __len__(self):\n",
    "        return len(self.x)"
   ]
  },
  {
   "cell_type": "code",
   "execution_count": 26,
   "metadata": {},
   "outputs": [],
   "source": [
    "test_data = test_df[result_indices].values\n",
    "test_dataset = MytestDataSet(test_data)\n",
    "test_dataloader = DataLoader(test_dataset, batch_size=16, shuffle=False)"
   ]
  },
  {
   "cell_type": "code",
   "execution_count": 34,
   "metadata": {},
   "outputs": [
    {
     "name": "stderr",
     "output_type": "stream",
     "text": [
      "100%|██████████| 62/62 [00:00<00:00, 634.35it/s]\n"
     ]
    }
   ],
   "source": [
    "result = predict(test_loader=test_dataloader, model=model, device='cuda')\n",
    "result = label_encoder.inverse_transform(result)"
   ]
  }
 ],
 "metadata": {
  "kernelspec": {
   "display_name": "pytorch",
   "language": "python",
   "name": "python3"
  },
  "language_info": {
   "codemirror_mode": {
    "name": "ipython",
    "version": 3
   },
   "file_extension": ".py",
   "mimetype": "text/x-python",
   "name": "python",
   "nbconvert_exporter": "python",
   "pygments_lexer": "ipython3",
   "version": "3.8.12"
  },
  "orig_nbformat": 4
 },
 "nbformat": 4,
 "nbformat_minor": 2
}
